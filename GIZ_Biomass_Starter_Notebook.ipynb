{
  "cells": [
    {
      "cell_type": "markdown",
      "metadata": {
        "id": "28R01eNOra9X"
      },
      "source": [
        "In this notebook, we will show you the differents steps to train step by step dly your model in this competition."
      ]
    },
    {
      "cell_type": "markdown",
      "metadata": {
        "id": "BiF5fKp2Qv1d"
      },
      "source": [
        "# Images Extractions"
      ]
    },
    {
      "cell_type": "code",
      "execution_count": null,
      "metadata": {
        "id": "ghyAh0w20yIH"
      },
      "outputs": [],
      "source": [
        "import h5py\n",
        "import matplotlib.pyplot as plt\n",
        "import pandas as pd\n",
        "import numpy as np\n",
        "import warnings\n",
        "warnings.filterwarnings('ignore')"
      ]
    },
    {
      "cell_type": "code",
      "execution_count": null,
      "metadata": {
        "id": "FSbBd9XiQ5q5"
      },
      "outputs": [],
      "source": [
        "!wget -q  https://share.phys.ethz.ch/~pf/albecker/abc/09072022_1154_train.h5\n",
        "!wget -q  https://share.phys.ethz.ch/~pf/albecker/abc/09072022_1154_val.h5\n",
        "!wget -q https://share.phys.ethz.ch/~pf/albecker/abc/09072022_1154_test.h5"
      ]
    },
    {
      "cell_type": "code",
      "execution_count": null,
      "metadata": {
        "id": "k3ZQRlZOQ65B"
      },
      "outputs": [],
      "source": [
        "trainset = h5py.File(\"09072022_1154_train.h5\", \"r\")\n",
        "validateset = h5py.File(\"09072022_1154_val.h5\", \"r\")\n",
        "testset = h5py.File(\"09072022_1154_test.h5\", \"r\")"
      ]
    },
    {
      "cell_type": "code",
      "execution_count": null,
      "metadata": {
        "colab": {
          "base_uri": "https://localhost:8080/"
        },
        "id": "sQnKRSw9RDu6",
        "outputId": "1cb6da86-787b-4193-f495-bfb4eed43894"
      },
      "outputs": [
        {
          "data": {
            "text/plain": [
              "<KeysViewHDF5 ['agbd', 'cloud', 'images', 'lat', 'lon', 'scl']>"
            ]
          },
          "execution_count": 4,
          "metadata": {},
          "output_type": "execute_result"
        }
      ],
      "source": [
        "# attributes of trainset\n",
        "trainset.keys()"
      ]
    },
    {
      "cell_type": "code",
      "execution_count": null,
      "metadata": {
        "colab": {
          "base_uri": "https://localhost:8080/"
        },
        "id": "M-i1QbYz21Zf",
        "outputId": "25dcdb57-cf43-44b6-c3f2-7e231bbb569d"
      },
      "outputs": [
        {
          "data": {
            "text/plain": [
              "<KeysViewHDF5 ['agbd', 'cloud', 'images', 'lat', 'lon', 'scl']>"
            ]
          },
          "execution_count": 5,
          "metadata": {},
          "output_type": "execute_result"
        }
      ],
      "source": [
        "# attributes of trainset\n",
        "testset.keys()"
      ]
    },
    {
      "cell_type": "code",
      "execution_count": null,
      "metadata": {
        "id": "zCVbzv1q9XOm"
      },
      "outputs": [],
      "source": [
        "train_cloud = np.array(trainset['cloud'],dtype=np.float64)"
      ]
    },
    {
      "cell_type": "code",
      "execution_count": null,
      "metadata": {
        "colab": {
          "base_uri": "https://localhost:8080/"
        },
        "id": "gGpaoBcn9a0G",
        "outputId": "b83cd2ea-e3c0-48a4-f191-b13e3dec0145"
      },
      "outputs": [
        {
          "data": {
            "text/plain": [
              "(25036, 15, 15, 1)"
            ]
          },
          "execution_count": 7,
          "metadata": {},
          "output_type": "execute_result"
        }
      ],
      "source": [
        "train_cloud.shape"
      ]
    },
    {
      "cell_type": "markdown",
      "metadata": {
        "id": "2rKhoGtGR1Xu"
      },
      "source": [
        "## Explore datasets"
      ]
    },
    {
      "cell_type": "code",
      "execution_count": null,
      "metadata": {
        "id": "YgOvKhevSGNV"
      },
      "outputs": [],
      "source": [
        "# train\n",
        "train_images = np.array(trainset['images'],dtype=np.float64)\n",
        "train_images = train_images.transpose(0,3,1,2)\n",
        "\n",
        "train_biomasses = np.array(trainset['agbd'],dtype=np.float64)\n",
        "\n",
        "# validate\n",
        "validate_images = np.array(validateset['images'],dtype=np.float64)\n",
        "validate_images = validate_images.transpose(0,3,1,2)\n",
        "validate_biomasses = np.array(validateset['agbd'],dtype=np.float64)\n",
        "\n",
        "# test \n",
        "test_images = np.array(testset['images'],dtype=np.float32)\n",
        "test_images = test_images.transpose(0,3,1,2)\n",
        "test_biomasses = np.array(testset['agbd'],dtype=np.float32)"
      ]
    },
    {
      "cell_type": "code",
      "execution_count": null,
      "metadata": {
        "colab": {
          "base_uri": "https://localhost:8080/"
        },
        "id": "Ps-9IeIgSJ4w",
        "outputId": "d4858e97-8f53-405d-c30c-f3af845b7af4"
      },
      "outputs": [
        {
          "name": "stdout",
          "output_type": "stream",
          "text": [
            "train dataset size (25036, 12, 15, 15) train lab size (25036,)\n",
            "\n",
            "validate dataset size (5174, 12, 15, 15) validate lab size (5174,)\n",
            "\n",
            "test dataset size (5190, 12, 15, 15) test lab size (5190,)\n"
          ]
        }
      ],
      "source": [
        "print(f\"train dataset size {train_images.shape} train lab size {train_biomasses.shape}\")\n",
        "print()\n",
        "print(f\"validate dataset size {validate_images.shape} validate lab size {validate_biomasses.shape}\")\n",
        "print()\n",
        "print(f\"test dataset size {test_images.shape} test lab size {test_biomasses.shape}\")"
      ]
    },
    {
      "cell_type": "markdown",
      "metadata": {
        "id": "zNdh9lMISRdZ"
      },
      "source": [
        "##  Some visulizations"
      ]
    },
    {
      "cell_type": "code",
      "execution_count": null,
      "metadata": {
        "colab": {
          "base_uri": "https://localhost:8080/"
        },
        "id": "fp5UpiavSMqn",
        "outputId": "86450012-46d6-4947-c861-f172ed90427c"
      },
      "outputs": [
        {
          "data": {
            "text/plain": [
              "<matplotlib.image.AxesImage at 0x7f484f37dd00>"
            ]
          },
          "execution_count": 10,
          "metadata": {},
          "output_type": "execute_result"
        },
        {
          "data": {
            "image/png": "[encoded data removed]",
            "text/plain": [
              "<Figure size 432x288 with 1 Axes>"
            ]
          },
          "metadata": {},
          "output_type": "display_data"
        }
      ],
      "source": [
        "plt.imshow(train_images[1,1,:,:])"
      ]
    },
    {
      "cell_type": "code",
      "execution_count": null,
      "metadata": {
        "colab": {
          "base_uri": "https://localhost:8080/"
        },
        "id": "TAFde--LSZR5",
        "outputId": "fa18d42a-61ce-471a-d48f-f1b41db1d320"
      },
      "outputs": [
        {
          "data": {
            "text/plain": [
              "99.10187530517578"
            ]
          },
          "execution_count": 11,
          "metadata": {},
          "output_type": "execute_result"
        }
      ],
      "source": [
        "train_biomasses[1]"
      ]
    },
    {
      "cell_type": "markdown",
      "metadata": {
        "id": "ffXv4PbxI5QS"
      },
      "source": [
        " **Below we explore the skewness of train dataset in each channel**"
      ]
    },
    {
      "cell_type": "code",
      "execution_count": null,
      "metadata": {
        "id": "CrCKjC-mSmJm"
      },
      "outputs": [],
      "source": [
        "band_skewness = []\n",
        "band_skewness_after_sqrt = []\n",
        "for c in range(12):\n",
        "    #calculate skewness\n",
        "    band_skewness.append(pd.Series(train_images[:,c].flatten()).skew())\n",
        "    #calculate skewness after applying sqrt\n",
        "    band_skewness_after_sqrt.append(pd.Series(np.sqrt(train_images[:,c].flatten())).skew())"
      ]
    },
    {
      "cell_type": "code",
      "execution_count": null,
      "metadata": {
        "colab": {
          "base_uri": "https://localhost:8080/"
        },
        "id": "mQuF1liYSppT",
        "outputId": "b85daa41-82c4-45f7-ae20-0ee9b1193df3"
      },
      "outputs": [
        {
          "data": {
            "image/png": "[encoded data removed]",
            "text/plain": [
              "<Figure size 432x288 with 1 Axes>"
            ]
          },
          "metadata": {},
          "output_type": "display_data"
        }
      ],
      "source": [
        "# skweness\n",
        "width = 0.25\n",
        "\n",
        "rng = [i for i in range(0,12)]\n",
        "rng2 = [i+width for i in range(0,12)]\n",
        "\n",
        "plt.bar(rng, band_skewness, align='center', width = width, label='Original', color ='b')\n",
        "plt.bar(rng2, band_skewness_after_sqrt, align='center', width = width, label='After sqrt', color ='g')\n",
        "plt.gca().set_xticks(rng)\n",
        "plt.legend()\n",
        "plt.xlabel('Band ID')\n",
        "plt.ylabel('Skewness')\n",
        "plt.show()"
      ]
    },
    {
      "cell_type": "markdown",
      "metadata": {
        "id": "SYkqo_nDQlzS"
      },
      "source": [
        "# Baseline With Sklearn"
      ]
    },
    {
      "cell_type": "code",
      "execution_count": null,
      "metadata": {
        "id": "is7xLI-1VzAW"
      },
      "outputs": [],
      "source": [
        "from sklearn.linear_model import LinearRegression,Ridge,Lasso, ElasticNet\n",
        "from sklearn.svm import LinearSVR\n",
        "from sklearn.neighbors import KNeighborsRegressor\n",
        "from sklearn.ensemble import RandomForestRegressor, GradientBoostingRegressor\n",
        "from sklearn.model_selection import GridSearchCV\n",
        "from sklearn.pipeline import Pipeline\n",
        "from sklearn.metrics import mean_squared_error\n",
        "from sklearn import model_selection\n",
        "from sklearn.compose import ColumnTransformer\n",
        "from sklearn.impute import SimpleImputer\n",
        "from sklearn.preprocessing import StandardScaler\n",
        "from sklearn.base import BaseEstimator, TransformerMixin"
      ]
    },
    {
      "cell_type": "code",
      "execution_count": null,
      "metadata": {
        "id": "t54SAWW6pr1S"
      },
      "outputs": [],
      "source": [
        "from sklearn import set_config\n",
        "set_config(display='diagram')"
      ]
    },
    {
      "cell_type": "markdown",
      "metadata": {
        "id": "PVAxS2EwqKiW"
      },
      "source": [
        "## First regression approach"
      ]
    },
    {
      "cell_type": "markdown",
      "metadata": {
        "id": "wtNBm3d1qM1x"
      },
      "source": [
        "### Pipeline of training"
      ]
    },
    {
      "cell_type": "code",
      "execution_count": null,
      "metadata": {
        "id": "T3OrinVvV3-8"
      },
      "outputs": [],
      "source": [
        "# constante for standardization\n",
        "MEAN = train_images.mean((0,2,3))\n",
        "STD = train_images.std((0,2,3))"
      ]
    },
    {
      "cell_type": "code",
      "execution_count": null,
      "metadata": {
        "id": "FC2Gb-3cQDcO"
      },
      "outputs": [],
      "source": [
        "class CustomScaler(BaseEstimator, TransformerMixin):\n",
        "  def __init__(self,mean,std):\n",
        "    self.mean = mean\n",
        "    self.std = std\n",
        "  \n",
        "  def fit(self, X, y=None):\n",
        "    #self.mean = X.mean((0,2,3)) \n",
        "    #self.std = X.std((0,2,3))\n",
        "    return self\n",
        "\n",
        "  def transform(self, X, y=None):\n",
        "    return (X-self.mean[None,:,None,None])/self.std[None,:,None,None] \n",
        "\n",
        "  def reverse_transform(self):\n",
        "    return None\n",
        "\n",
        "    \n",
        "class FlattenTransformer(BaseEstimator, TransformerMixin):\n",
        "\n",
        "  def fit(self, X, y=None):\n",
        "    return self\n",
        "\n",
        "  def transform(self, X, y=None):\n",
        "    return X.reshape((X.shape[0], -1))\n",
        "\n",
        "\n",
        "pipe = Pipeline(steps=[(\"scaler\", CustomScaler(MEAN,STD)),\n",
        "                       (\"flatten\", FlattenTransformer()),\n",
        "                       (\"classifier\", Lasso())\n",
        "])"
      ]
    },
    {
      "cell_type": "code",
      "execution_count": null,
      "metadata": {
        "colab": {
          "base_uri": "https://localhost:8080/",
          "height": 158
        },
        "id": "Ii56ZHoXmx5p",
        "outputId": "c601cc3b-5daf-41da-ff17-2b81eee08bd4"
      },
      "outputs": [
        {
          "data": {
            "text/html": [
              "<style>#sk-8ea0713c-e91f-4f07-b426-916cfbdf363f {color: black;background-color: white;}#sk-8ea0713c-e91f-4f07-b426-916cfbdf363f pre{padding: 0;}#sk-8ea0713c-e91f-4f07-b426-916cfbdf363f div.sk-toggleable {background-color: white;}#sk-8ea0713c-e91f-4f07-b426-916cfbdf363f label.sk-toggleable__label {cursor: pointer;display: block;width: 100%;margin-bottom: 0;padding: 0.3em;box-sizing: border-box;text-align: center;}#sk-8ea0713c-e91f-4f07-b426-916cfbdf363f label.sk-toggleable__label-arrow:before {content: \"▸\";float: left;margin-right: 0.25em;color: #696969;}#sk-8ea0713c-e91f-4f07-b426-916cfbdf363f label.sk-toggleable__label-arrow:hover:before {color: black;}#sk-8ea0713c-e91f-4f07-b426-916cfbdf363f div.sk-estimator:hover label.sk-toggleable__label-arrow:before {color: black;}#sk-8ea0713c-e91f-4f07-b426-916cfbdf363f div.sk-toggleable__content {max-height: 0;max-width: 0;overflow: hidden;text-align: left;background-color: #f0f8ff;}#sk-8ea0713c-e91f-4f07-b426-916cfbdf363f div.sk-toggleable__content pre {margin: 0.2em;color: black;border-radius: 0.25em;background-color: #f0f8ff;}#sk-8ea0713c-e91f-4f07-b426-916cfbdf363f input.sk-toggleable__control:checked~div.sk-toggleable__content {max-height: 200px;max-width: 100%;overflow: auto;}#sk-8ea0713c-e91f-4f07-b426-916cfbdf363f input.sk-toggleable__control:checked~label.sk-toggleable__label-arrow:before {content: \"▾\";}#sk-8ea0713c-e91f-4f07-b426-916cfbdf363f div.sk-estimator input.sk-toggleable__control:checked~label.sk-toggleable__label {background-color: #d4ebff;}#sk-8ea0713c-e91f-4f07-b426-916cfbdf363f div.sk-label input.sk-toggleable__control:checked~label.sk-toggleable__label {background-color: #d4ebff;}#sk-8ea0713c-e91f-4f07-b426-916cfbdf363f input.sk-hidden--visually {border: 0;clip: rect(1px 1px 1px 1px);clip: rect(1px, 1px, 1px, 1px);height: 1px;margin: -1px;overflow: hidden;padding: 0;position: absolute;width: 1px;}#sk-8ea0713c-e91f-4f07-b426-916cfbdf363f div.sk-estimator {font-family: monospace;background-color: #f0f8ff;border: 1px dotted black;border-radius: 0.25em;box-sizing: border-box;margin-bottom: 0.5em;}#sk-8ea0713c-e91f-4f07-b426-916cfbdf363f div.sk-estimator:hover {background-color: #d4ebff;}#sk-8ea0713c-e91f-4f07-b426-916cfbdf363f div.sk-parallel-item::after {content: \"\";width: 100%;border-bottom: 1px solid gray;flex-grow: 1;}#sk-8ea0713c-e91f-4f07-b426-916cfbdf363f div.sk-label:hover label.sk-toggleable__label {background-color: #d4ebff;}#sk-8ea0713c-e91f-4f07-b426-916cfbdf363f div.sk-serial::before {content: \"\";position: absolute;border-left: 1px solid gray;box-sizing: border-box;top: 2em;bottom: 0;left: 50%;}#sk-8ea0713c-e91f-4f07-b426-916cfbdf363f div.sk-serial {display: flex;flex-direction: column;align-items: center;background-color: white;padding-right: 0.2em;padding-left: 0.2em;}#sk-8ea0713c-e91f-4f07-b426-916cfbdf363f div.sk-item {z-index: 1;}#sk-8ea0713c-e91f-4f07-b426-916cfbdf363f div.sk-parallel {display: flex;align-items: stretch;justify-content: center;background-color: white;}#sk-8ea0713c-e91f-4f07-b426-916cfbdf363f div.sk-parallel::before {content: \"\";position: absolute;border-left: 1px solid gray;box-sizing: border-box;top: 2em;bottom: 0;left: 50%;}#sk-8ea0713c-e91f-4f07-b426-916cfbdf363f div.sk-parallel-item {display: flex;flex-direction: column;position: relative;background-color: white;}#sk-8ea0713c-e91f-4f07-b426-916cfbdf363f div.sk-parallel-item:first-child::after {align-self: flex-end;width: 50%;}#sk-8ea0713c-e91f-4f07-b426-916cfbdf363f div.sk-parallel-item:last-child::after {align-self: flex-start;width: 50%;}#sk-8ea0713c-e91f-4f07-b426-916cfbdf363f div.sk-parallel-item:only-child::after {width: 0;}#sk-8ea0713c-e91f-4f07-b426-916cfbdf363f div.sk-dashed-wrapped {border: 1px dashed gray;margin: 0 0.4em 0.5em 0.4em;box-sizing: border-box;padding-bottom: 0.4em;background-color: white;position: relative;}#sk-8ea0713c-e91f-4f07-b426-916cfbdf363f div.sk-label label {font-family: monospace;font-weight: bold;background-color: white;display: inline-block;line-height: 1.2em;}#sk-8ea0713c-e91f-4f07-b426-916cfbdf363f div.sk-label-container {position: relative;z-index: 2;text-align: center;}#sk-8ea0713c-e91f-4f07-b426-916cfbdf363f div.sk-container {/* jupyter's `normalize.less` sets `[hidden] { display: none; }` but bootstrap.min.css set `[hidden] { display: none !important; }` so we also need the `!important` here to be able to override the default hidden behavior on the sphinx rendered scikit-learn.org. See: https://github.com/scikit-learn/scikit-learn/issues/21755 */display: inline-block !important;position: relative;}#sk-8ea0713c-e91f-4f07-b426-916cfbdf363f div.sk-text-repr-fallback {display: none;}</style><div id=\"sk-8ea0713c-e91f-4f07-b426-916cfbdf363f\" class=\"sk-top-container\"><div class=\"sk-text-repr-fallback\"><pre>Pipeline(steps=[(&#x27;scaler&#x27;,\n",
              "                 CustomScaler(mean=array([ 644.62522678,  675.00465197,  887.51322647,  649.01398076,\n",
              "       1230.65511708, 3005.58275568, 3717.91194245, 3626.2871387 ,\n",
              "       3999.28166498, 4109.51322682, 2262.52644121, 1253.58153468]),\n",
              "                              std=array([ 575.97684675,  570.30180631,  536.11125314,  550.22417005,\n",
              "        557.76750885,  777.03590322,  935.15224447,  949.36012986,\n",
              "        988.61001558, 1096.67397739,  671.68692054,  590.6012704 ]))),\n",
              "                (&#x27;flatten&#x27;, FlattenTransformer()), (&#x27;classifier&#x27;, Lasso())])</pre><b>Please rerun this cell to show the HTML repr or trust the notebook.</b></div><div class=\"sk-container\" hidden><div class=\"sk-item sk-dashed-wrapped\"><div class=\"sk-label-container\"><div class=\"sk-label sk-toggleable\"><input class=\"sk-toggleable__control sk-hidden--visually\" id=\"be60409d-9f62-4ac1-87a1-d2997d2b20d8\" type=\"checkbox\" ><label for=\"be60409d-9f62-4ac1-87a1-d2997d2b20d8\" class=\"sk-toggleable__label sk-toggleable__label-arrow\">Pipeline</label><div class=\"sk-toggleable__content\"><pre>Pipeline(steps=[(&#x27;scaler&#x27;,\n",
              "                 CustomScaler(mean=array([ 644.62522678,  675.00465197,  887.51322647,  649.01398076,\n",
              "       1230.65511708, 3005.58275568, 3717.91194245, 3626.2871387 ,\n",
              "       3999.28166498, 4109.51322682, 2262.52644121, 1253.58153468]),\n",
              "                              std=array([ 575.97684675,  570.30180631,  536.11125314,  550.22417005,\n",
              "        557.76750885,  777.03590322,  935.15224447,  949.36012986,\n",
              "        988.61001558, 1096.67397739,  671.68692054,  590.6012704 ]))),\n",
              "                (&#x27;flatten&#x27;, FlattenTransformer()), (&#x27;classifier&#x27;, Lasso())])</pre></div></div></div><div class=\"sk-serial\"><div class=\"sk-item\"><div class=\"sk-estimator sk-toggleable\"><input class=\"sk-toggleable__control sk-hidden--visually\" id=\"88e22093-97fe-49b0-8622-cb99654a6526\" type=\"checkbox\" ><label for=\"88e22093-97fe-49b0-8622-cb99654a6526\" class=\"sk-toggleable__label sk-toggleable__label-arrow\">CustomScaler</label><div class=\"sk-toggleable__content\"><pre>CustomScaler(mean=array([ 644.62522678,  675.00465197,  887.51322647,  649.01398076,\n",
              "       1230.65511708, 3005.58275568, 3717.91194245, 3626.2871387 ,\n",
              "       3999.28166498, 4109.51322682, 2262.52644121, 1253.58153468]),\n",
              "             std=array([ 575.97684675,  570.30180631,  536.11125314,  550.22417005,\n",
              "        557.76750885,  777.03590322,  935.15224447,  949.36012986,\n",
              "        988.61001558, 1096.67397739,  671.68692054,  590.6012704 ]))</pre></div></div></div><div class=\"sk-item\"><div class=\"sk-estimator sk-toggleable\"><input class=\"sk-toggleable__control sk-hidden--visually\" id=\"44dafaca-dee4-48e0-a368-db533ec4c2ba\" type=\"checkbox\" ><label for=\"44dafaca-dee4-48e0-a368-db533ec4c2ba\" class=\"sk-toggleable__label sk-toggleable__label-arrow\">FlattenTransformer</label><div class=\"sk-toggleable__content\"><pre>FlattenTransformer()</pre></div></div></div><div class=\"sk-item\"><div class=\"sk-estimator sk-toggleable\"><input class=\"sk-toggleable__control sk-hidden--visually\" id=\"f30623ad-ea56-4baf-9310-aeb37f8c3c96\" type=\"checkbox\" ><label for=\"f30623ad-ea56-4baf-9310-aeb37f8c3c96\" class=\"sk-toggleable__label sk-toggleable__label-arrow\">Lasso</label><div class=\"sk-toggleable__content\"><pre>Lasso()</pre></div></div></div></div></div></div></div>"
            ],
            "text/plain": [
              "Pipeline(steps=[('scaler',\n",
              "                 CustomScaler(mean=array([ 644.62522678,  675.00465197,  887.51322647,  649.01398076,\n",
              "       1230.65511708, 3005.58275568, 3717.91194245, 3626.2871387 ,\n",
              "       3999.28166498, 4109.51322682, 2262.52644121, 1253.58153468]),\n",
              "                              std=array([ 575.97684675,  570.30180631,  536.11125314,  550.22417005,\n",
              "        557.76750885,  777.03590322,  935.15224447,  949.36012986,\n",
              "        988.61001558, 1096.67397739,  671.68692054,  590.6012704 ]))),\n",
              "                ('flatten', FlattenTransformer()), ('classifier', Lasso())])"
            ]
          },
          "execution_count": 18,
          "metadata": {},
          "output_type": "execute_result"
        }
      ],
      "source": [
        "pipe.fit(train_images,train_biomasses)"
      ]
    },
    {
      "cell_type": "code",
      "execution_count": null,
      "metadata": {
        "colab": {
          "base_uri": "https://localhost:8080/"
        },
        "id": "61dZDV4Dmx-h",
        "outputId": "a195c770-610c-457d-832e-24f52df8b987"
      },
      "outputs": [
        {
          "data": {
            "text/plain": [
              "54.98686484405351"
            ]
          },
          "execution_count": 19,
          "metadata": {},
          "output_type": "execute_result"
        }
      ],
      "source": [
        "# predict\n",
        "pred_train = pipe.predict(train_images)\n",
        "\n",
        "# train mse error\n",
        "mse = mean_squared_error(train_biomasses, pred_train) \n",
        "rmse = np.sqrt(mse)\n",
        "rmse"
      ]
    },
    {
      "cell_type": "code",
      "execution_count": null,
      "metadata": {
        "colab": {
          "base_uri": "https://localhost:8080/"
        },
        "id": "T17ZqXTop6DJ",
        "outputId": "94a1635a-575b-49bb-d9a7-3ef9541ea74c"
      },
      "outputs": [
        {
          "data": {
            "text/plain": [
              "62.94396603055366"
            ]
          },
          "execution_count": 20,
          "metadata": {},
          "output_type": "execute_result"
        }
      ],
      "source": [
        "# predict\n",
        "pred_validate = pipe.predict(validate_images)\n",
        "\n",
        "#  validate mse error\n",
        "mse = mean_squared_error(validate_biomasses, pred_validate) \n",
        "rmse = np.sqrt(mse)\n",
        "rmse"
      ]
    },
    {
      "cell_type": "markdown",
      "metadata": {
        "id": "MjL1gMrGqSwY"
      },
      "source": [
        "### Gridsearch"
      ]
    },
    {
      "cell_type": "code",
      "execution_count": null,
      "metadata": {
        "id": "bZZ00__izp6T"
      },
      "outputs": [],
      "source": [
        "# Initiaze the hyperparameters for each dictionary\n",
        "param1 = {}\n",
        "param1['classifier'] = [LinearRegression()]\n",
        "\n",
        "param2 = {}\n",
        "param2['classifier__alpha'] = [0.1, 0.5, 1]\n",
        "param2['classifier'] = [Ridge()]\n",
        "\n",
        "param3 = {}\n",
        "param3['classifier__alpha'] = [0.1, 0.5, 1]\n",
        "param3['classifier'] = [Lasso()]\n",
        "\n",
        "param4 = {}\n",
        "param4['classifier__n_neighbors'] = [2,5,10,25,50]\n",
        "param4['classifier'] = [KNeighborsRegressor()]\n",
        "\n",
        "param5 = {}\n",
        "param5['classifier__C'] = [10**-2, 10**-1, 10**0, 10**1, 10**2]\n",
        "param5['classifier__epsilon'] = [0.0,0.2,0.5,1]\n",
        "param5['classifier'] = [LinearSVR()]\n",
        "\n",
        "param6 = {}\n",
        "param6['classifier__alpha'] = [0.1, 0.5, 1]\n",
        "param6['classifier'] = [ElasticNet()]\n",
        "\n",
        "param7 = {}\n",
        "param7['classifier__n_estimators'] = [50, 100, 200, 500]\n",
        "param7['classifier'] = [RandomForestRegressor()]\n",
        "\n",
        "param8 = {}\n",
        "param8['classifier__learning_rate'] = [0.01, 0.02, 0.05, 0.1]\n",
        "param7['classifier__n_estimators'] = [50, 100, 200, 500]\n",
        "param8['classifier'] = [GradientBoostingRegressor()]\n"
      ]
    },
    {
      "cell_type": "code",
      "execution_count": null,
      "metadata": {
        "id": "ptJz-yeCNYzM"
      },
      "outputs": [],
      "source": [
        "pipeline = pipe = Pipeline(steps=[(\"scaler\", CustomScaler(MEAN,STD)),\n",
        "                       (\"flatten\", FlattenTransformer()),\n",
        "                       (\"classifier\", LinearRegression())])\n",
        "# params = [param1, param2, param3, param4, param5, param6, param7, param8]\n",
        "params = [param8]\n"
      ]
    },
    {
      "cell_type": "code",
      "execution_count": null,
      "metadata": {
        "colab": {
          "base_uri": "https://localhost:8080/"
        },
        "id": "f3NqYDHctRC5",
        "outputId": "56f2f610-7600-4ec4-970b-993c61889e42"
      },
      "outputs": [
        {
          "name": "stdout",
          "output_type": "stream",
          "text": [
            "Fitting 3 folds for each of 55 candidates, totalling 165 fits\n",
            "[CV 1/3] END .classifier=LinearRegression();, score=-3573.908 total time=  18.9s\n",
            "[CV 2/3] END .classifier=LinearRegression();, score=-3341.865 total time=  18.1s\n",
            "[CV 3/3] END .classifier=LinearRegression();, score=-3269.662 total time=  18.7s\n",
            "[CV 1/3] END classifier=Ridge(), classifier__alpha=0.1;, score=-3371.196 total time=   3.8s\n",
            "[CV 2/3] END classifier=Ridge(), classifier__alpha=0.1;, score=-3160.244 total time=   3.8s\n",
            "[CV 3/3] END classifier=Ridge(), classifier__alpha=0.1;, score=-3099.040 total time=   4.7s\n",
            "[CV 1/3] END classifier=Ridge(), classifier__alpha=0.5;, score=-3320.498 total time=   3.8s\n",
            "[CV 2/3] END classifier=Ridge(), classifier__alpha=0.5;, score=-3103.557 total time=   3.7s\n",
            "[CV 3/3] END classifier=Ridge(), classifier__alpha=0.5;, score=-3052.690 total time=   4.4s\n",
            "[CV 1/3] END classifier=Ridge(), classifier__alpha=1;, score=-3294.228 total time=   3.9s\n",
            "[CV 2/3] END classifier=Ridge(), classifier__alpha=1;, score=-3076.961 total time=   3.8s\n",
            "[CV 3/3] END classifier=Ridge(), classifier__alpha=1;, score=-3029.948 total time=   4.1s\n",
            "[CV 1/3] END classifier=Lasso(), classifier__alpha=0.1;, score=-2998.152 total time=  39.9s\n",
            "[CV 2/3] END classifier=Lasso(), classifier__alpha=0.1;, score=-2811.111 total time=  40.3s\n",
            "[CV 3/3] END classifier=Lasso(), classifier__alpha=0.1;, score=-2773.588 total time=  39.5s\n",
            "[CV 1/3] END classifier=Lasso(), classifier__alpha=0.5;, score=-3118.225 total time=  38.2s\n",
            "[CV 2/3] END classifier=Lasso(), classifier__alpha=0.5;, score=-2914.758 total time=  36.8s\n",
            "[CV 3/3] END classifier=Lasso(), classifier__alpha=0.5;, score=-2860.099 total time=  36.6s\n",
            "[CV 1/3] END classifier=Lasso(), classifier__alpha=1;, score=-3192.474 total time=  19.6s\n",
            "[CV 2/3] END classifier=Lasso(), classifier__alpha=1;, score=-2977.374 total time=  12.4s\n",
            "[CV 3/3] END classifier=Lasso(), classifier__alpha=1;, score=-2928.358 total time=  23.8s\n",
            "[CV 1/3] END classifier=KNeighborsRegressor(), classifier__n_neighbors=2;, score=-4228.716 total time=  16.3s\n",
            "[CV 2/3] END classifier=KNeighborsRegressor(), classifier__n_neighbors=2;, score=-4108.178 total time=  17.0s\n",
            "[CV 3/3] END classifier=KNeighborsRegressor(), classifier__n_neighbors=2;, score=-3948.402 total time=  17.0s\n",
            "[CV 1/3] END classifier=KNeighborsRegressor(), classifier__n_neighbors=5;, score=-3625.563 total time=  17.1s\n",
            "[CV 2/3] END classifier=KNeighborsRegressor(), classifier__n_neighbors=5;, score=-3375.668 total time=  17.1s\n",
            "[CV 3/3] END classifier=KNeighborsRegressor(), classifier__n_neighbors=5;, score=-3302.757 total time=  17.7s\n",
            "[CV 1/3] END classifier=KNeighborsRegressor(), classifier__n_neighbors=10;, score=-3401.437 total time=  17.4s\n",
            "[CV 2/3] END classifier=KNeighborsRegressor(), classifier__n_neighbors=10;, score=-3164.399 total time=  16.8s\n",
            "[CV 3/3] END classifier=KNeighborsRegressor(), classifier__n_neighbors=10;, score=-3103.125 total time=  17.5s\n",
            "[CV 1/3] END classifier=KNeighborsRegressor(), classifier__n_neighbors=25;, score=-3252.915 total time=  17.1s\n",
            "[CV 2/3] END classifier=KNeighborsRegressor(), classifier__n_neighbors=25;, score=-3047.141 total time=  16.9s\n",
            "[CV 3/3] END classifier=KNeighborsRegressor(), classifier__n_neighbors=25;, score=-3008.748 total time=  17.0s\n",
            "[CV 1/3] END classifier=KNeighborsRegressor(), classifier__n_neighbors=50;, score=-3224.822 total time=  18.0s\n",
            "[CV 2/3] END classifier=KNeighborsRegressor(), classifier__n_neighbors=50;, score=-3006.503 total time=  17.2s\n",
            "[CV 3/3] END classifier=KNeighborsRegressor(), classifier__n_neighbors=50;, score=-2981.265 total time=  20.5s\n",
            "[CV 1/3] END classifier=LinearSVR(), classifier__C=0.01, classifier__epsilon=0.0;, score=-3718.433 total time=   9.0s\n",
            "[CV 2/3] END classifier=LinearSVR(), classifier__C=0.01, classifier__epsilon=0.0;, score=-3425.656 total time=   8.1s\n",
            "[CV 3/3] END classifier=LinearSVR(), classifier__C=0.01, classifier__epsilon=0.0;, score=-3357.724 total time=   8.2s\n",
            "[CV 1/3] END classifier=LinearSVR(), classifier__C=0.01, classifier__epsilon=0.2;, score=-3719.394 total time=   9.1s\n",
            "[CV 2/3] END classifier=LinearSVR(), classifier__C=0.01, classifier__epsilon=0.2;, score=-3427.017 total time=   7.7s\n",
            "[CV 3/3] END classifier=LinearSVR(), classifier__C=0.01, classifier__epsilon=0.2;, score=-3357.670 total time=   8.2s\n",
            "[CV 1/3] END classifier=LinearSVR(), classifier__C=0.01, classifier__epsilon=0.5;, score=-3718.805 total time=   8.4s\n",
            "[CV 2/3] END classifier=LinearSVR(), classifier__C=0.01, classifier__epsilon=0.5;, score=-3427.219 total time=   7.7s\n",
            "[CV 3/3] END classifier=LinearSVR(), classifier__C=0.01, classifier__epsilon=0.5;, score=-3357.560 total time=   8.0s\n",
            "[CV 1/3] END classifier=LinearSVR(), classifier__C=0.01, classifier__epsilon=1;, score=-3716.837 total time=   8.2s\n",
            "[CV 2/3] END classifier=LinearSVR(), classifier__C=0.01, classifier__epsilon=1;, score=-3425.285 total time=   7.7s\n",
            "[CV 3/3] END classifier=LinearSVR(), classifier__C=0.01, classifier__epsilon=1;, score=-3356.763 total time=   8.5s\n",
            "[CV 1/3] END classifier=LinearSVR(), classifier__C=0.1, classifier__epsilon=0.0;, score=-3455.283 total time=  42.5s\n",
            "[CV 2/3] END classifier=LinearSVR(), classifier__C=0.1, classifier__epsilon=0.0;, score=-3178.269 total time=  40.1s\n",
            "[CV 3/3] END classifier=LinearSVR(), classifier__C=0.1, classifier__epsilon=0.0;, score=-3129.411 total time=  43.2s\n",
            "[CV 1/3] END classifier=LinearSVR(), classifier__C=0.1, classifier__epsilon=0.2;, score=-3454.689 total time=  43.0s\n",
            "[CV 2/3] END classifier=LinearSVR(), classifier__C=0.1, classifier__epsilon=0.2;, score=-3177.016 total time=  39.7s\n",
            "[CV 3/3] END classifier=LinearSVR(), classifier__C=0.1, classifier__epsilon=0.2;, score=-3127.974 total time=  44.4s\n",
            "[CV 1/3] END classifier=LinearSVR(), classifier__C=0.1, classifier__epsilon=0.5;, score=-3453.546 total time=  44.8s\n",
            "[CV 2/3] END classifier=LinearSVR(), classifier__C=0.1, classifier__epsilon=0.5;, score=-3176.822 total time=  41.9s\n",
            "[CV 3/3] END classifier=LinearSVR(), classifier__C=0.1, classifier__epsilon=0.5;, score=-3126.597 total time=  44.9s\n",
            "[CV 1/3] END classifier=LinearSVR(), classifier__C=0.1, classifier__epsilon=1;, score=-3450.478 total time=  45.0s\n",
            "[CV 2/3] END classifier=LinearSVR(), classifier__C=0.1, classifier__epsilon=1;, score=-3176.293 total time=  43.6s\n",
            "[CV 3/3] END classifier=LinearSVR(), classifier__C=0.1, classifier__epsilon=1;, score=-3122.911 total time=  46.2s\n",
            "[CV 1/3] END classifier=LinearSVR(), classifier__C=1, classifier__epsilon=0.0;, score=-3415.557 total time= 1.6min\n",
            "[CV 2/3] END classifier=LinearSVR(), classifier__C=1, classifier__epsilon=0.0;, score=-3134.490 total time= 1.6min\n",
            "[CV 3/3] END classifier=LinearSVR(), classifier__C=1, classifier__epsilon=0.0;, score=-3095.484 total time= 1.6min\n",
            "[CV 1/3] END classifier=LinearSVR(), classifier__C=1, classifier__epsilon=0.2;, score=-3407.807 total time= 1.6min\n",
            "[CV 2/3] END classifier=LinearSVR(), classifier__C=1, classifier__epsilon=0.2;, score=-3137.820 total time= 1.6min\n",
            "[CV 3/3] END classifier=LinearSVR(), classifier__C=1, classifier__epsilon=0.2;, score=-3109.365 total time= 1.6min\n",
            "[CV 1/3] END classifier=LinearSVR(), classifier__C=1, classifier__epsilon=0.5;, score=-3401.094 total time= 1.6min\n",
            "[CV 2/3] END classifier=LinearSVR(), classifier__C=1, classifier__epsilon=0.5;, score=-3138.013 total time= 1.6min\n",
            "[CV 3/3] END classifier=LinearSVR(), classifier__C=1, classifier__epsilon=0.5;, score=-3086.773 total time= 1.6min\n",
            "[CV 1/3] END classifier=LinearSVR(), classifier__C=1, classifier__epsilon=1;, score=-3399.155 total time= 1.6min\n",
            "[CV 2/3] END classifier=LinearSVR(), classifier__C=1, classifier__epsilon=1;, score=-3130.710 total time= 1.6min\n",
            "[CV 3/3] END classifier=LinearSVR(), classifier__C=1, classifier__epsilon=1;, score=-3075.151 total time= 1.7min\n",
            "[CV 1/3] END classifier=LinearSVR(), classifier__C=10, classifier__epsilon=0.0;, score=-3420.750 total time= 2.1min\n",
            "[CV 2/3] END classifier=LinearSVR(), classifier__C=10, classifier__epsilon=0.0;, score=-3313.032 total time= 2.1min\n",
            "[CV 3/3] END classifier=LinearSVR(), classifier__C=10, classifier__epsilon=0.0;, score=-3110.690 total time= 2.1min\n",
            "[CV 1/3] END classifier=LinearSVR(), classifier__C=10, classifier__epsilon=0.2;, score=-3566.592 total time= 2.1min\n",
            "[CV 2/3] END classifier=LinearSVR(), classifier__C=10, classifier__epsilon=0.2;, score=-3189.745 total time= 2.1min\n",
            "[CV 3/3] END classifier=LinearSVR(), classifier__C=10, classifier__epsilon=0.2;, score=-3118.344 total time= 2.1min\n",
            "[CV 1/3] END classifier=LinearSVR(), classifier__C=10, classifier__epsilon=0.5;, score=-3390.701 total time= 2.1min\n",
            "[CV 2/3] END classifier=LinearSVR(), classifier__C=10, classifier__epsilon=0.5;, score=-3140.567 total time= 2.1min\n",
            "[CV 3/3] END classifier=LinearSVR(), classifier__C=10, classifier__epsilon=0.5;, score=-3165.072 total time= 2.1min\n",
            "[CV 1/3] END classifier=LinearSVR(), classifier__C=10, classifier__epsilon=1;, score=-3397.487 total time= 2.1min\n",
            "[CV 2/3] END classifier=LinearSVR(), classifier__C=10, classifier__epsilon=1;, score=-3231.854 total time= 2.1min\n",
            "[CV 3/3] END classifier=LinearSVR(), classifier__C=10, classifier__epsilon=1;, score=-3228.541 total time= 2.1min\n",
            "[CV 1/3] END classifier=LinearSVR(), classifier__C=100, classifier__epsilon=0.0;, score=-3738.083 total time= 2.3min\n",
            "[CV 2/3] END classifier=LinearSVR(), classifier__C=100, classifier__epsilon=0.0;, score=-4210.140 total time= 2.3min\n",
            "[CV 3/3] END classifier=LinearSVR(), classifier__C=100, classifier__epsilon=0.0;, score=-3891.081 total time= 2.3min\n",
            "[CV 1/3] END classifier=LinearSVR(), classifier__C=100, classifier__epsilon=0.2;, score=-4500.135 total time= 2.3min\n",
            "[CV 2/3] END classifier=LinearSVR(), classifier__C=100, classifier__epsilon=0.2;, score=-3449.229 total time= 2.3min\n",
            "[CV 3/3] END classifier=LinearSVR(), classifier__C=100, classifier__epsilon=0.2;, score=-3986.956 total time= 2.3min\n",
            "[CV 1/3] END classifier=LinearSVR(), classifier__C=100, classifier__epsilon=0.5;, score=-4856.787 total time= 2.3min\n",
            "[CV 2/3] END classifier=LinearSVR(), classifier__C=100, classifier__epsilon=0.5;, score=-6224.939 total time= 2.3min\n",
            "[CV 3/3] END classifier=LinearSVR(), classifier__C=100, classifier__epsilon=0.5;, score=-3357.454 total time= 2.3min\n",
            "[CV 1/3] END classifier=LinearSVR(), classifier__C=100, classifier__epsilon=1;, score=-4309.119 total time= 2.3min\n",
            "[CV 2/3] END classifier=LinearSVR(), classifier__C=100, classifier__epsilon=1;, score=-4860.934 total time= 2.3min\n",
            "[CV 3/3] END classifier=LinearSVR(), classifier__C=100, classifier__epsilon=1;, score=-4715.874 total time= 2.3min\n",
            "[CV 1/3] END classifier=ElasticNet(), classifier__alpha=0.1;, score=-3006.578 total time=  50.2s\n",
            "[CV 2/3] END classifier=ElasticNet(), classifier__alpha=0.1;, score=-2821.166 total time=  49.7s\n",
            "[CV 3/3] END classifier=ElasticNet(), classifier__alpha=0.1;, score=-2775.924 total time=  49.4s\n",
            "[CV 1/3] END classifier=ElasticNet(), classifier__alpha=0.5;, score=-3105.109 total time=  41.1s\n",
            "[CV 2/3] END classifier=ElasticNet(), classifier__alpha=0.5;, score=-2896.918 total time=  40.7s\n",
            "[CV 3/3] END classifier=ElasticNet(), classifier__alpha=0.5;, score=-2846.383 total time=  41.4s\n",
            "[CV 1/3] END classifier=ElasticNet(), classifier__alpha=1;, score=-3162.205 total time=  39.3s\n",
            "[CV 2/3] END classifier=ElasticNet(), classifier__alpha=1;, score=-2947.491 total time=  38.3s\n",
            "[CV 3/3] END classifier=ElasticNet(), classifier__alpha=1;, score=-2898.421 total time=  38.9s\n",
            "[CV 1/3] END classifier=RandomForestRegressor(), classifier__criterion=squared_error, classifier__n_estimators=50;, score=-3023.809 total time=43.7min\n",
            "[CV 2/3] END classifier=RandomForestRegressor(), classifier__criterion=squared_error, classifier__n_estimators=50;, score=-2922.637 total time=42.9min\n"
          ]
        }
      ],
      "source": [
        "# Train the grid search model\n",
        "grid_search = GridSearchCV(pipeline, params, cv=3, scoring='neg_mean_squared_error', verbose=3).fit(train_images,train_biomasses)"
      ]
    },
    {
      "cell_type": "code",
      "execution_count": null,
      "metadata": {
        "colab": {
          "background_save": true,
          "base_uri": "https://localhost:8080/"
        },
        "id": "jXKjEcTzIBXs",
        "outputId": "2b226490-7fad-4396-d977-5f83ff12f27d"
      },
      "outputs": [
        {
          "name": "stdout",
          "output_type": "stream",
          "text": [
            "Fitting 3 folds for each of 4 candidates, totalling 12 fits\n",
            "[CV 1/3] END classifier=GradientBoostingRegressor(), classifier__learning_rate=0.01;, score=-3126.542 total time=18.3min\n",
            "[CV 2/3] END classifier=GradientBoostingRegressor(), classifier__learning_rate=0.01;, score=-2903.904 total time=17.8min\n"
          ]
        }
      ],
      "source": [
        "# Train the grid search model\n",
        "grid_search = GridSearchCV(pipeline, params, cv=3, scoring='neg_mean_squared_error', verbose=3).fit(train_images,train_biomasses)"
      ]
    },
    {
      "cell_type": "code",
      "execution_count": null,
      "metadata": {
        "id": "GKM3uy2Cth2W"
      },
      "outputs": [],
      "source": [
        "# Best performing model and its corresponding hyperparameters\n",
        "grid_search.best_params_"
      ]
    },
    {
      "cell_type": "code",
      "execution_count": null,
      "metadata": {
        "id": "Ohdx1LKttk2y"
      },
      "outputs": [],
      "source": [
        "model = grid_search.best_estimator_\n",
        "# predict\n",
        "pred = model.predict(train_images)\n",
        "\n",
        "# validate mse error\n",
        "mse = mean_squared_error(train_biomasses, pred) \n",
        "rmse = np.sqrt(mse)\n",
        "\n",
        "print(mse, rmse)"
      ]
    },
    {
      "cell_type": "code",
      "execution_count": null,
      "metadata": {
        "id": "3vFO06ZYISof"
      },
      "outputs": [],
      "source": [
        "model = grid_search.best_estimator_\n",
        "# predict\n",
        "pred = model.predict(validate_images)\n",
        "\n",
        "# validate mse error\n",
        "mse = mean_squared_error(validate_biomasses, pred) \n",
        "rmse = np.sqrt(mse)\n",
        "\n",
        "print(mse, rmse)"
      ]
    },
    {
      "cell_type": "markdown",
      "metadata": {
        "id": "85LEevXo7rEZ"
      },
      "source": [
        "### Tuning of the best estimator"
      ]
    },
    {
      "cell_type": "markdown",
      "metadata": {
        "id": "pdAypOP5BkR_"
      },
      "source": [
        "### Predict GIZ Biomass"
      ]
    },
    {
      "cell_type": "code",
      "execution_count": null,
      "metadata": {
        "id": "5LDX4p2XBoz2"
      },
      "outputs": [],
      "source": [
        "s2_images_h5 = h5py.File(\"/content/images_test.h5\", \"r\")"
      ]
    },
    {
      "cell_type": "code",
      "execution_count": null,
      "metadata": {
        "id": "PG3shy0oDS4A"
      },
      "outputs": [],
      "source": [
        "#prepare test set sentinel 2 images \n",
        "s2_images = np.array(s2_images_h5[\"images\"])\n",
        "s2_images = s2_images.transpose(0,3,1,2)"
      ]
    },
    {
      "cell_type": "code",
      "execution_count": null,
      "metadata": {
        "id": "F5uan3E8DpEU"
      },
      "outputs": [],
      "source": [
        "# predict on giz test data\n",
        "pred_giz = pipe.predict(s2_images)"
      ]
    },
    {
      "cell_type": "code",
      "execution_count": null,
      "metadata": {
        "id": "WD4IyJWvGgzo"
      },
      "outputs": [],
      "source": [
        "ID_S2_pair = pd.read_csv('/content/UniqueID-SentinelPair.csv')\n",
        "\n",
        "preds = pd.DataFrame({'Target':pred_giz}).rename_axis('S2_idx').reset_index()\n",
        "preds = ID_S2_pair.merge(preds, on='S2_idx').drop(columns=['S2_idx'])"
      ]
    },
    {
      "cell_type": "code",
      "execution_count": null,
      "metadata": {
        "id": "_zMlJsmG-rMO"
      },
      "outputs": [],
      "source": [
        "preds.to_csv('GIZ_Biomass_predictions.csv', index=False)"
      ]
    },
    {
      "cell_type": "code",
      "execution_count": null,
      "metadata": {
        "id": "9AYlcFAhTiHi"
      },
      "outputs": [],
      "source": [
        "preds"
      ]
    },
    {
      "cell_type": "markdown",
      "metadata": {
        "id": "V3JKRiKj7038"
      },
      "source": [
        "# Neural Networks approach"
      ]
    },
    {
      "cell_type": "code",
      "execution_count": null,
      "metadata": {
        "id": "9Wv4LDCL_gky"
      },
      "outputs": [],
      "source": [
        "from tensorflow.keras.models import Model, InputLayer, Dense"
      ]
    },
    {
      "cell_type": "markdown",
      "metadata": {
        "id": "EwmJeZBf-l9L"
      },
      "source": [
        "## MLP"
      ]
    },
    {
      "cell_type": "code",
      "execution_count": null,
      "metadata": {
        "id": "tVs1I3fh74u0"
      },
      "outputs": [],
      "source": [
        "class NaiveMLPModel(Model):\n",
        "\n",
        "    def __init__(self, inputSize : Tuple[int, int, int], activate, **kwargs):\n",
        "        super().__init__(**kwargs)\n",
        "        self.input = InputLayer()"
      ]
    }
  ],
  "metadata": {
    "accelerator": "GPU",
    "colab": {
      "collapsed_sections": [
        "BiF5fKp2Qv1d",
        "wtNBm3d1qM1x",
        "pdAypOP5BkR_"
      ],
      "provenance": []
    },
    "gpuClass": "standard",
    "kernelspec": {
      "display_name": "Python 3",
      "language": "python",
      "name": "python3"
    },
    "language_info": {
      "codemirror_mode": {
        "name": "ipython",
        "version": 3
      },
      "file_extension": ".py",
      "mimetype": "text/x-python",
      "name": "python",
      "nbconvert_exporter": "python",
      "pygments_lexer": "ipython3",
      "version": "3.7.3"
    }
  },
  "nbformat": 4,
  "nbformat_minor": 0
}